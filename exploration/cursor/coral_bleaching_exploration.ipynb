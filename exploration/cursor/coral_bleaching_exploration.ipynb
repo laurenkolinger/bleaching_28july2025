# Import required libraries
import pandas as pd
import numpy as np
import matplotlib.pyplot as plt
import seaborn as sns
from scipy import stats
from sklearn.linear_model import LinearRegression
from sklearn.ensemble import RandomForestRegressor
from sklearn.metrics import r2_score, mean_squared_error
from sklearn.preprocessing import StandardScaler
import warnings
warnings.filterwarnings('ignore')

# Import our analysis class
from coral_bleaching_analysis import CoralBleachingAnalyzer

# Set plotting parameters
plt.rcParams['figure.figsize'] = (12, 8)
plt.rcParams['font.size'] = 10
sns.set_palette("husl")# Coral Bleaching Recovery Analysis

This notebook provides an interactive exploration of coral bleaching recovery patterns and predictive relationships.

## Research Questions
1. How do corals recover between Annual and PBL monitoring periods?
2. Can 2023 bleaching patterns predict 2024 coral responses?
3. What role does thermal stress (DHW) play in recovery predictions?
4. What insights can we extract about coral resilience patterns?